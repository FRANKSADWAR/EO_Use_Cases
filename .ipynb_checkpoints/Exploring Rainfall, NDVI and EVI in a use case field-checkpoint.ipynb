{
 "cells": [
  {
   "cell_type": "code",
   "execution_count": 21,
   "id": "1fd5fc3b",
   "metadata": {},
   "outputs": [],
   "source": [
    "import os\n",
    "import warnings\n",
    "warnings.filterwarnings(\"ignore\")\n",
    "import matplotlib.pyplot as plt"
   ]
  },
  {
   "cell_type": "code",
   "execution_count": 2,
   "id": "65f6c3c6",
   "metadata": {},
   "outputs": [],
   "source": [
    "from get_rainfall_data import load_chirps_data"
   ]
  },
  {
   "cell_type": "code",
   "execution_count": 3,
   "id": "cbdf7ded",
   "metadata": {},
   "outputs": [],
   "source": [
    "import pandas as pd\n",
    "import numpy as np\n",
    "import xarray as xr\n",
    "import rasterio as rio\n",
    "import rioxarray\n",
    "from shapely.geometry import shape\n",
    "import seaborn as sns\n",
    "import geopandas as gpd"
   ]
  },
  {
   "cell_type": "code",
   "execution_count": 41,
   "id": "ae94e044",
   "metadata": {},
   "outputs": [],
   "source": [
    "from s2cloudless import S2PixelCloudDetector\n",
    "from odc.algo import to_rgba\n",
    "from odc.stac import stac_load, configure_rio\n",
    "import dask\n",
    "from deafrica_tools.plotting import rgb, display_map\n",
    "from pystac_client import Client\n",
    "import matplotlib.dates as mdates"
   ]
  },
  {
   "cell_type": "markdown",
   "id": "5e74b6dd",
   "metadata": {},
   "source": [
    "-  Digital Earth Africa data is stored on S3 in Cape Town, Africa. \n",
    "- To load the data, we must configure rasterio with the appropriate AWS S3 endpoint."
   ]
  },
  {
   "cell_type": "code",
   "execution_count": 5,
   "id": "42067137",
   "metadata": {},
   "outputs": [],
   "source": [
    "os.environ[\"AWS_S3_ENDPOINT\"] = \"s3.af-south-1.amazonaws.com\"\n",
    "os.environ[\"AWS_NO_SIGN_REQUEST\"] = \"true\""
   ]
  },
  {
   "cell_type": "markdown",
   "id": "3ddfb99b",
   "metadata": {},
   "source": [
    "- The configuration below must be used when loading any Digital Earth Africa data through the STAC API."
   ]
  },
  {
   "cell_type": "code",
   "execution_count": 28,
   "id": "bf5e16bb",
   "metadata": {},
   "outputs": [],
   "source": [
    "client = dask.distributed.Client()\n",
    "\n",
    "configure_rio(\n",
    "    cloud_defaults = True,\n",
    "    aws = {\"aws_unsigned\": True},\n",
    "    client = client\n",
    ")"
   ]
  },
  {
   "cell_type": "markdown",
   "id": "3ca2bc78",
   "metadata": {},
   "source": [
    "- Open the stac catalog"
   ]
  },
  {
   "cell_type": "code",
   "execution_count": 29,
   "id": "069b0cf2",
   "metadata": {},
   "outputs": [],
   "source": [
    "catalog = Client.open(\"https://explorer.digitalearth.africa/stac\")"
   ]
  },
  {
   "cell_type": "code",
   "execution_count": 9,
   "id": "43084f3a",
   "metadata": {},
   "outputs": [],
   "source": [
    "farmers_df = pd.read_csv('dataset.csv')"
   ]
  },
  {
   "cell_type": "code",
   "execution_count": 23,
   "id": "3ad08f88",
   "metadata": {},
   "outputs": [
    {
     "name": "stdout",
     "output_type": "stream",
     "text": [
      "Found: 214 datasets\n"
     ]
    }
   ],
   "source": [
    "start_date = '2020-01-01'\n",
    "end_date = '2020-08-01'\n",
    "lat,lon = farmers_df.latitude.iloc[0],farmers_df.longitude.iloc[0]\n",
    "ds_rf_daily = load_chirps_data(lat, lon, start_date, end_date)"
   ]
  },
  {
   "cell_type": "code",
   "execution_count": 49,
   "id": "38b4db70",
   "metadata": {},
   "outputs": [],
   "source": [
    "ds_rf_daily = ds_rf_daily.where(ds_rf_daily !=-9999)"
   ]
  },
  {
   "cell_type": "code",
   "execution_count": 50,
   "id": "e9f5e675",
   "metadata": {},
   "outputs": [],
   "source": [
    "ds_rf_daily_mean = ds_rf_daily['rainfall'].mean(['longitude','latitude']).to_dataframe()\n",
    "ds_rf_daily_mean = ds_rf_daily_mean.reset_index()"
   ]
  },
  {
   "cell_type": "code",
   "execution_count": 51,
   "id": "06f96762",
   "metadata": {},
   "outputs": [],
   "source": [
    "ds_rf_daily_mean['day'] = ds_rf_daily_mean['time'].apply(lambda x: x.date())"
   ]
  },
  {
   "cell_type": "code",
   "execution_count": 52,
   "id": "92302730",
   "metadata": {},
   "outputs": [],
   "source": [
    "ds_rf_daily_mean = ds_rf_daily_mean[['day','rainfall']].set_index('day')"
   ]
  },
  {
   "cell_type": "code",
   "execution_count": 53,
   "id": "b9ecdc69",
   "metadata": {},
   "outputs": [
    {
     "data": {
      "text/plain": [
       "Text(0.5, 1.0, 'Daily Rainfall from January to August 2020')"
      ]
     },
     "execution_count": 53,
     "metadata": {},
     "output_type": "execute_result"
    },
    {
     "data": {
      "image/png": "[encoded data removed]",
      "text/plain": [
       "<Figure size 1200x600 with 1 Axes>"
      ]
     },
     "metadata": {},
     "output_type": "display_data"
    }
   ],
   "source": [
    "fig, ax = plt.subplots(1, figsize=(12,6))\n",
    "sns.barplot(data = ds_rf_daily_mean, x = ds_rf_daily_mean.index, y = 'rainfall')\n",
    "ax.xaxis.set_major_locator(mdates.MonthLocator(interval=1))\n",
    "ax.xaxis.set_major_formatter(mdates.DateFormatter('%b'))\n",
    "plt.xlabel(\"Date\")\n",
    "plt.xticks(rotation=45)\n",
    "plt.ylabel(\"Rainfall in mm\")\n",
    "plt.title(\"Daily Rainfall from January to August 2020\")"
   ]
  },
  {
   "cell_type": "code",
   "execution_count": null,
   "id": "89f2d980",
   "metadata": {},
   "outputs": [],
   "source": []
  },
  {
   "cell_type": "code",
   "execution_count": null,
   "id": "081e03c0",
   "metadata": {},
   "outputs": [],
   "source": []
  },
  {
   "cell_type": "code",
   "execution_count": null,
   "id": "d558b377",
   "metadata": {},
   "outputs": [],
   "source": []
  },
  {
   "cell_type": "code",
   "execution_count": null,
   "id": "3590356a",
   "metadata": {},
   "outputs": [],
   "source": []
  },
  {
   "cell_type": "code",
   "execution_count": null,
   "id": "f76553f8",
   "metadata": {},
   "outputs": [],
   "source": []
  },
  {
   "cell_type": "code",
   "execution_count": null,
   "id": "26de465c",
   "metadata": {},
   "outputs": [],
   "source": []
  },
  {
   "cell_type": "code",
   "execution_count": null,
   "id": "9eb85dfb",
   "metadata": {},
   "outputs": [],
   "source": []
  },
  {
   "cell_type": "code",
   "execution_count": null,
   "id": "a9c497c5",
   "metadata": {},
   "outputs": [],
   "source": []
  }
 ],
 "metadata": {
  "kernelspec": {
   "display_name": "Python 3 (ipykernel)",
   "language": "python",
   "name": "python3"
  },
  "language_info": {
   "codemirror_mode": {
    "name": "ipython",
    "version": 3
   },
   "file_extension": ".py",
   "mimetype": "text/x-python",
   "name": "python",
   "nbconvert_exporter": "python",
   "pygments_lexer": "ipython3",
   "version": "3.10.9"
  }
 },
 "nbformat": 4,
 "nbformat_minor": 5
}
